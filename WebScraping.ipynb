{
  "nbformat": 4,
  "nbformat_minor": 0,
  "metadata": {
    "orig_nbformat": 2,
    "deepnote": {
      "is_reactive": false
    },
    "deepnote_notebook_id": "d7689306-885b-4ba7-b60b-bcc6485684e9",
    "deepnote_execution_queue": [],
    "colab": {
      "name": "WebScraping.ipynb",
      "provenance": [],
      "include_colab_link": true
    },
    "language_info": {
      "name": "python"
    },
    "kernelspec": {
      "name": "python3",
      "display_name": "Python 3"
    }
  },
  "cells": [
    {
      "cell_type": "markdown",
      "metadata": {
        "id": "view-in-github",
        "colab_type": "text"
      },
      "source": [
        "<a href=\"https://colab.research.google.com/github/SurendraRedd/Notebooks/blob/main/WebScraping.ipynb\" target=\"_parent\"><img src=\"https://colab.research.google.com/assets/colab-badge.svg\" alt=\"Open In Colab\"/></a>"
      ]
    },
    {
      "cell_type": "markdown",
      "metadata": {
        "tags": [],
        "cell_id": "00000-ced8ecdc-75b8-4d76-984c-18f0b7b0644a",
        "deepnote_cell_type": "markdown",
        "id": "yfwiaRx0ZlJ6"
      },
      "source": [
        "# 🕸 Webscraping\n",
        "\n",
        "#### Use Case - Scrape the website and fetch the details on user selection.\n",
        "\n",
        "#### Steps:\n",
        "\n",
        "** Scenario 1 **\n",
        "- 👉 Install the package by running the command in cell !pip install autoscraper\n",
        "- 👉 Url to scrape\n",
        "- 👉 Values to scrape from the url"
      ]
    },
    {
      "cell_type": "code",
      "metadata": {
        "tags": [],
        "cell_id": "00000-1a8269c6-bfdf-44db-9384-4f9d8da31ad6",
        "deepnote_to_be_reexecuted": false,
        "source_hash": "9f02b52",
        "execution_millis": 4757,
        "output_cleared": false,
        "execution_start": 1619242528129,
        "deepnote_cell_type": "code",
        "colab": {
          "base_uri": "https://localhost:8080/"
        },
        "id": "16Rit5ZYZlJ8",
        "outputId": "37176db4-d718-41c8-82c6-e993623e61a2"
      },
      "source": [
        "# Install the Autoscraper\n",
        "!pip install autoscraper"
      ],
      "execution_count": 1,
      "outputs": [
        {
          "output_type": "stream",
          "text": [
            "Collecting autoscraper\n",
            "  Downloading https://files.pythonhosted.org/packages/50/44/553afbb7624aaa16e71546196c1f3beb170dd555a2822785889a9da5c2e7/autoscraper-1.1.12-py3-none-any.whl\n",
            "Requirement already satisfied: bs4 in /usr/local/lib/python3.7/dist-packages (from autoscraper) (0.0.1)\n",
            "Requirement already satisfied: requests in /usr/local/lib/python3.7/dist-packages (from autoscraper) (2.23.0)\n",
            "Requirement already satisfied: lxml in /usr/local/lib/python3.7/dist-packages (from autoscraper) (4.2.6)\n",
            "Requirement already satisfied: beautifulsoup4 in /usr/local/lib/python3.7/dist-packages (from bs4->autoscraper) (4.6.3)\n",
            "Requirement already satisfied: chardet<4,>=3.0.2 in /usr/local/lib/python3.7/dist-packages (from requests->autoscraper) (3.0.4)\n",
            "Requirement already satisfied: certifi>=2017.4.17 in /usr/local/lib/python3.7/dist-packages (from requests->autoscraper) (2020.12.5)\n",
            "Requirement already satisfied: urllib3!=1.25.0,!=1.25.1,<1.26,>=1.21.1 in /usr/local/lib/python3.7/dist-packages (from requests->autoscraper) (1.24.3)\n",
            "Requirement already satisfied: idna<3,>=2.5 in /usr/local/lib/python3.7/dist-packages (from requests->autoscraper) (2.10)\n",
            "Installing collected packages: autoscraper\n",
            "Successfully installed autoscraper-1.1.12\n"
          ],
          "name": "stdout"
        }
      ]
    },
    {
      "cell_type": "code",
      "metadata": {
        "tags": [],
        "cell_id": "00002-64c00dd4-28c5-41e5-b0df-228b72a6cff3",
        "deepnote_to_be_reexecuted": false,
        "source_hash": "af902424",
        "execution_millis": 1324,
        "execution_start": 1619242532895,
        "deepnote_cell_type": "code",
        "colab": {
          "base_uri": "https://localhost:8080/"
        },
        "id": "uXHrzXQyZlJ-",
        "outputId": "dd1b1bc8-ef8f-4de2-ef5d-0727d41af1a0"
      },
      "source": [
        "# Example 1\n",
        "from autoscraper import AutoScraper\n",
        "\n",
        "url = 'https://github.com/SurendraRedd?tab=repositories'\n",
        "fetch_list = ['Notebooks']\n",
        "\n",
        "scraper = AutoScraper()\n",
        "result = scraper.build(url=url, wanted_list=fetch_list)\n",
        "scraper.get_result_similar(url, grouped=True)\n"
      ],
      "execution_count": 2,
      "outputs": [
        {
          "output_type": "execute_result",
          "data": {
            "text/plain": [
              "{'rule_dmyy': ['Python_Training',\n",
              "  'Notebooks',\n",
              "  'Sample_Project',\n",
              "  'python-github-actions-example',\n",
              "  'Learnings2020',\n",
              "  'StreamlitProjects',\n",
              "  'SurendraRedd',\n",
              "  'MLStreamlitApp',\n",
              "  'StreamlitBook',\n",
              "  'Books',\n",
              "  'Docusaurus',\n",
              "  'GitBook',\n",
              "  'Techgig',\n",
              "  'ChallengeDeploy',\n",
              "  'UPSNL2020.github.io',\n",
              "  'Bestpractises',\n",
              "  'Surendra_Portfolio',\n",
              "  'DjangoProject',\n",
              "  'WareHouseManagementSystem',\n",
              "  'WebPageProjects',\n",
              "  'incredible-kale',\n",
              "  'surendra-blog',\n",
              "  'SurendraRedd.github.io',\n",
              "  'UsefulTools',\n",
              "  'CodingInterview',\n",
              "  'Interviews2020',\n",
              "  'SurendraReddy',\n",
              "  'MachineLearningCode',\n",
              "  'AcquireTalent',\n",
              "  'NLapplication2020']}"
            ]
          },
          "metadata": {
            "tags": []
          },
          "execution_count": 2
        }
      ]
    },
    {
      "cell_type": "code",
      "metadata": {
        "tags": [],
        "cell_id": "00003-df5bc475-35ca-485f-b35b-e94f5efd4cf8",
        "deepnote_to_be_reexecuted": false,
        "source_hash": "e6d02072",
        "execution_millis": 1396,
        "execution_start": 1619242647644,
        "deepnote_cell_type": "code",
        "colab": {
          "base_uri": "https://localhost:8080/"
        },
        "id": "yLy-UmEhZlJ-",
        "outputId": "6295ecc2-1955-4fb5-8b22-58b16940aa92"
      },
      "source": [
        "# Example 2\n",
        "from autoscraper import AutoScraper\n",
        "\n",
        "url = 'https://finance.yahoo.com/quote/AAPL/?guccounter=1'\n",
        "fetch_list = ['Previous Close', '131.94']\n",
        "\n",
        "scraper = AutoScraper()\n",
        "result = scraper.build(url=url, wanted_list=fetch_list)\n",
        "scraper.get_result_similar(url, grouped=True)"
      ],
      "execution_count": 3,
      "outputs": [
        {
          "output_type": "execute_result",
          "data": {
            "text/plain": [
              "{'rule_88ne': ['Previous Close',\n",
              "  'Open',\n",
              "  'Bid',\n",
              "  'Ask',\n",
              "  \"Day's Range\",\n",
              "  '52 Week Range',\n",
              "  'Volume',\n",
              "  'Avg. Volume',\n",
              "  'Market Cap',\n",
              "  'Beta (5Y Monthly)',\n",
              "  'PE Ratio (TTM)',\n",
              "  'EPS (TTM)',\n",
              "  'Earnings Date',\n",
              "  'Forward Dividend & Yield',\n",
              "  'Ex-Dividend Date',\n",
              "  '1y Target Est'],\n",
              " 'rule_p4ep': ['131.94',\n",
              "  '132.16',\n",
              "  '134.25 x 1200',\n",
              "  '134.30 x 1800',\n",
              "  '132.17 - 135.12',\n",
              "  '69.55 - 145.09',\n",
              "  '75,411,603',\n",
              "  '104,905,620',\n",
              "  '2.282T',\n",
              "  '1.22',\n",
              "  '36.43',\n",
              "  '3.69',\n",
              "  'Apr 28, 2021',\n",
              "  '0.82 (0.62%)',\n",
              "  'Feb 05, 2021',\n",
              "  '152.06']}"
            ]
          },
          "metadata": {
            "tags": []
          },
          "execution_count": 3
        }
      ]
    },
    {
      "cell_type": "code",
      "metadata": {
        "tags": [],
        "cell_id": "00004-10569217-d67d-4fb4-af31-8d3e8001c714",
        "deepnote_to_be_reexecuted": false,
        "source_hash": "ac1a9f90",
        "execution_millis": 2,
        "execution_start": 1619242712403,
        "deepnote_cell_type": "code",
        "id": "p9jdQAuaZlJ_"
      },
      "source": [
        "# save the rules and search\n",
        "scraper.set_rule_aliases({'rule_88ne': 'price','rule_p4ep': 'Names'})\n",
        "scraper.keep_rules(['rule_88ne', 'rule_p4ep'])\n",
        "scraper.save('AppleSearch')\n",
        "\n",
        "# Note rule values will need to be updated every time based on the execution."
      ],
      "execution_count": 4,
      "outputs": []
    },
    {
      "cell_type": "code",
      "metadata": {
        "tags": [],
        "cell_id": "00005-be607f3a-c249-4ea6-8ab2-eae905a0528f",
        "deepnote_to_be_reexecuted": false,
        "source_hash": "20f3dd3b",
        "execution_millis": 602,
        "execution_start": 1619242671408,
        "deepnote_cell_type": "code",
        "colab": {
          "base_uri": "https://localhost:8080/"
        },
        "id": "GrUQjN9pZlJ_",
        "outputId": "7cc90fdb-0e37-4ac2-d28f-2923f379220f"
      },
      "source": [
        "# Try the above rules in another url\n",
        "Amz_Url = 'https://finance.yahoo.com/quote/AMZN?p=AMZN'\n",
        "\n",
        "scraper.get_result_similar(Amz_Url, group_by_alias=True)"
      ],
      "execution_count": 5,
      "outputs": [
        {
          "output_type": "execute_result",
          "data": {
            "text/plain": [
              "{'Names': ['3,309.04',\n",
              "  '3,319.10',\n",
              "  '3,342.00 x 800',\n",
              "  '3,343.29 x 900',\n",
              "  '3,308.50 - 3,375.00',\n",
              "  '2,256.38 - 3,552.25',\n",
              "  '3,196,652',\n",
              "  '3,460,203',\n",
              "  '1.711T',\n",
              "  '1.12',\n",
              "  '79.87',\n",
              "  '41.83',\n",
              "  'Apr 29, 2021',\n",
              "  'N/A (N/A)',\n",
              "  'N/A',\n",
              "  '3,988.53'],\n",
              " 'price': ['Previous Close',\n",
              "  'Open',\n",
              "  'Bid',\n",
              "  'Ask',\n",
              "  \"Day's Range\",\n",
              "  '52 Week Range',\n",
              "  'Volume',\n",
              "  'Avg. Volume',\n",
              "  'Market Cap',\n",
              "  'Beta (5Y Monthly)',\n",
              "  'PE Ratio (TTM)',\n",
              "  'EPS (TTM)',\n",
              "  'Earnings Date',\n",
              "  'Forward Dividend & Yield',\n",
              "  'Ex-Dividend Date',\n",
              "  '1y Target Est']}"
            ]
          },
          "metadata": {
            "tags": []
          },
          "execution_count": 5
        }
      ]
    },
    {
      "cell_type": "code",
      "metadata": {
        "tags": [],
        "cell_id": "00004-08d37797-5883-40ec-978c-47bc84195f40",
        "deepnote_to_be_reexecuted": false,
        "source_hash": "a20af41d",
        "execution_millis": 1242,
        "execution_start": 1619242774774,
        "deepnote_cell_type": "code",
        "id": "Ge1n3iobZlKA"
      },
      "source": [
        "# Example 2\n",
        "from autoscraper import AutoScraper\n",
        "\n",
        "url = 'https://www.amazon.in/s?k=dell+laptops&ref=nb_sb_noss_2'\n",
        "fetch_list = ['₹51,499','Dell Inspiron 5406 14\" FHD Display 2in1 Laptop (11th Gen i3-1115G4 / 4GB / 256GB SSD / Integrated Graphics/ Win 10 + MS Office / Backlit with FPR / Platinum Silver) D560446WIN9S','10']\n",
        "\n",
        "scraper = AutoScraper()\n",
        "result = scraper.build(url=url, wanted_list=fetch_list)\n"
      ],
      "execution_count": 6,
      "outputs": []
    },
    {
      "cell_type": "code",
      "metadata": {
        "tags": [],
        "cell_id": "00003-8789a8d8-1cf4-4cf2-b963-c3ef65257d3d",
        "deepnote_to_be_reexecuted": false,
        "source_hash": "194efea0",
        "execution_millis": 1001,
        "output_cleared": false,
        "execution_start": 1619242781093,
        "deepnote_cell_type": "code",
        "colab": {
          "base_uri": "https://localhost:8080/"
        },
        "id": "-hD5eU1UZlKA",
        "outputId": "039f2121-a92f-407f-81da-e31d3908f862"
      },
      "source": [
        "#scraper.get_result_similar(url, group_by_alias=True)\n",
        "scraper.get_result_similar(url, grouped=True)\n",
        "\n",
        "# Note: Sometimes Duplicate rule values will be displayed"
      ],
      "execution_count": 7,
      "outputs": [
        {
          "output_type": "execute_result",
          "data": {
            "text/plain": [
              "{'rule_3b0j': ['₹51,499',\n",
              "  '₹53,707',\n",
              "  '₹69,400',\n",
              "  '₹74,000',\n",
              "  '₹61,990',\n",
              "  '₹65,999',\n",
              "  '₹1,29,990',\n",
              "  '₹1,54,446',\n",
              "  '₹94,990',\n",
              "  '₹1,20,957',\n",
              "  '₹82,490',\n",
              "  '₹93,971'],\n",
              " 'rule_79b1': ['10',\n",
              "  'Save ₹2,208 (4%)',\n",
              "  '41',\n",
              "  'Save ₹4,600 (6%)',\n",
              "  'Get it by Thursday, May 6',\n",
              "  'Only 1 left in stock.',\n",
              "  'Save ₹4,009 (6%)',\n",
              "  '15',\n",
              "  'Save ₹24,456 (16%)',\n",
              "  '14',\n",
              "  'Save ₹25,967 (21%)',\n",
              "  '52',\n",
              "  'Save ₹11,481 (12%)'],\n",
              " 'rule_815p': [],\n",
              " 'rule_81rk': ['Dell Inspiron 5406 14\" FHD Display 2in1 Laptop (11th Gen i3-1115G4 / 4GB / 256GB SSD / Integrated Graphics/ Win 10 + MS Office / Backlit with FPR / Platinum Silver) D560446WIN9S',\n",
              "  'Dell Inspiron 5406 11th Gen 14inch FHD 2in1 Laptop(i5-1135G7 / 8GB / 512 SSD / Iris Xe Graphics /Win 10/ MS Office 19/ Active Pen/Titan Grey),D560367WIN9S',\n",
              "  'Dell Vostro 3400 14\" FHD Anti Glare Display Laptop/ i5-1135G7 / 8GB / 512 SSD / Nvidia 2GB MX230 Graphics / Win 10 + Office H&S/ Dune Color) D552156WIN9DE',\n",
              "  'DELL XPS 9300 13.3-inch FHD Laptop (10th Gen Core i5-1035G1/8GB/512GB SSD/Windows 10 Home Plus & MS Office 365- 1Yr Subscription/Intel HD Graphics), Silver',\n",
              "  'Dell XPS 7390 13.3-inch FHD Thin & Light Laptop (10th Gen Core i5-10210U/8GB/512GB SSD/Win 10 + MS Office/Integrated Graphics) White',\n",
              "  'Dell G3 3500 Gaming 15.6inch 120hz FHD Display Laptop (10th Gen i7-10750H / 8 GB / 512 SSD / GTX 1650 4GB / 1Yr Premium Warranty/ Win 10 + MS Office H&S 2019) D560250WIN9BE'],\n",
              " 'rule_d50e': ['₹51,499',\n",
              "  '₹53,707',\n",
              "  '₹69,400',\n",
              "  '₹74,000',\n",
              "  '₹61,990',\n",
              "  '₹65,999',\n",
              "  '₹1,29,990',\n",
              "  '₹1,54,446',\n",
              "  '₹94,990',\n",
              "  '₹1,20,957',\n",
              "  '₹82,490',\n",
              "  '₹93,971'],\n",
              " 'rule_fxu2': ['3',\n",
              "  '4',\n",
              "  '5',\n",
              "  '6',\n",
              "  '7',\n",
              "  '8',\n",
              "  '9',\n",
              "  '10',\n",
              "  '13',\n",
              "  '14',\n",
              "  '15',\n",
              "  '16',\n",
              "  '17',\n",
              "  '18',\n",
              "  '20'],\n",
              " 'rule_n0pd': ['5',\n",
              "  'Save ₹3,610 (12%)',\n",
              "  '10',\n",
              "  'Save ₹1,150 (3%)',\n",
              "  '159',\n",
              "  'Save ₹2,144 (5%)',\n",
              "  'FREE Delivery by Amazon',\n",
              "  'In stock on June 1, 2021.',\n",
              "  '49',\n",
              "  '22',\n",
              "  'Save ₹550 (2%)',\n",
              "  '31',\n",
              "  'Save ₹3,510 (5%)',\n",
              "  'Get it Friday, April 30 - Saturday, May 1',\n",
              "  '223',\n",
              "  'Save ₹5,203 (7%)',\n",
              "  '104',\n",
              "  'Save ₹554 (1%)',\n",
              "  'Only 1 left in stock.',\n",
              "  '126',\n",
              "  'Save ₹64',\n",
              "  '14',\n",
              "  'Save ₹10,410 (21%)',\n",
              "  '43',\n",
              "  '56',\n",
              "  'Save ₹5,991 (14%)',\n",
              "  '42',\n",
              "  'Save ₹8,499 (17%)',\n",
              "  '51',\n",
              "  'Save ₹864 (1%)',\n",
              "  'Get it Friday, April 30 - Saturday, May 1',\n",
              "  'Only 1 left in stock.',\n",
              "  '400',\n",
              "  'Save ₹11,900 (19%)'],\n",
              " 'rule_y9qg': ['10']}"
            ]
          },
          "metadata": {
            "tags": []
          },
          "execution_count": 7
        }
      ]
    },
    {
      "cell_type": "code",
      "metadata": {
        "tags": [],
        "cell_id": "00004-f609df7e-6dac-4dc6-b002-90e966189354",
        "deepnote_to_be_reexecuted": false,
        "source_hash": "5a217ad6",
        "execution_millis": 1,
        "execution_start": 1619242812183,
        "deepnote_cell_type": "code",
        "id": "qKBjmyoxZlKB"
      },
      "source": [
        "# save the rules and search\n",
        "\n",
        "scraper.set_rule_aliases({'rule_d50e': 'price','rule_81rk': 'Names'})\n",
        "scraper.keep_rules(['rule_d50e', 'rule_81rk'])\n",
        "scraper.save('DellLaptopSearch')"
      ],
      "execution_count": 8,
      "outputs": []
    },
    {
      "cell_type": "code",
      "metadata": {
        "tags": [],
        "cell_id": "00007-f512d615-216c-46b3-b4d8-f730be88665e",
        "deepnote_to_be_reexecuted": false,
        "source_hash": "9e55dd8d",
        "execution_millis": 979,
        "output_cleared": false,
        "execution_start": 1619242814920,
        "deepnote_cell_type": "code",
        "colab": {
          "base_uri": "https://localhost:8080/"
        },
        "id": "mhg2534GZlKB",
        "outputId": "1ea88dbc-1e31-48c6-8fe3-34b6168bf858"
      },
      "source": [
        "# Try the above rules in another url\n",
        "HP_Url = 'https://www.amazon.in/s?k=HP+laptops&ref=nb_sb_noss_2'\n",
        "\n",
        "scraper.get_result_similar(HP_Url, group_by_alias=True)"
      ],
      "execution_count": 9,
      "outputs": [
        {
          "output_type": "execute_result",
          "data": {
            "text/plain": [
              "{'Names': ['Dell Inspiron 5406 11th Gen 14inch FHD 2in1 Laptop( i3-1115G4 / 4GB / 512 SSD / Integrated Graphics/ Win 10/ MS Office 19/ Active Pen/Platinum Silver),D560366WIN9S',\n",
              "  'Lenovo Legion 5 AMD Ryzen 5 4600H 15.6 inch Full HD Gaming Laptop (8GB/1TB HDD + 256GB SSD/Windows 10/120 Hz/NVIDIA GTX 1650 4GB GDDR6 Graphics/Phantom Black/2.3Kg), 82B500BHIN',\n",
              "  'Dell Vostro 3400 14\" FHD Anti Glare Display Laptop/ i5-1135G7 / 8GB / 512 SSD / Nvidia 2GB MX230 Graphics / Win 10 + Office H&S/ Dune Color) D552156WIN9DE',\n",
              "  'Dell XPS 7390 13.3-inch FHD Thin & Light Laptop (10th Gen Core i5-10210U/8GB/512GB SSD/Win 10 + MS Office/Integrated Graphics) White',\n",
              "  'DELL XPS 9300 13.3-inch FHD Laptop (10th Gen Core i5-1035G1/8GB/512GB SSD/Windows 10 Home Plus & MS Office 365- 1Yr Subscription/Intel HD Graphics), Silver',\n",
              "  'Dell G3 3500 Gaming Laptop with 15.6 Inch 120 Hz FHD Display (10th Gen i5-10300H/ 8 GB/ 1TB+256 SSD/ Win 10/ NVIDIA GTX 1650 4GB Graphics) D560245HIN9BE / D560317HIN9BE'],\n",
              " 'price': ['₹53,990',\n",
              "  '₹63,306',\n",
              "  '₹67,990',\n",
              "  '₹91,790',\n",
              "  '₹61,990',\n",
              "  '₹65,999',\n",
              "  '₹94,990',\n",
              "  '₹1,20,957',\n",
              "  '₹1,29,990',\n",
              "  '₹1,54,446',\n",
              "  '₹72,990',\n",
              "  '₹78,193']}"
            ]
          },
          "metadata": {
            "tags": []
          },
          "execution_count": 9
        }
      ]
    },
    {
      "cell_type": "code",
      "metadata": {
        "tags": [],
        "cell_id": "00008-0deaa8fa-26bb-4959-a970-3d64ad8a1385",
        "deepnote_to_be_reexecuted": false,
        "source_hash": "87c6bb50",
        "execution_millis": 555,
        "execution_start": 1619242822113,
        "deepnote_cell_type": "code",
        "colab": {
          "base_uri": "https://localhost:8080/"
        },
        "id": "kBUEI7jnZlKB",
        "outputId": "3a016191-94a0-4e12-96ac-ff93aea9d153"
      },
      "source": [
        "# Example 3\n",
        "from autoscraper import AutoScraper\n",
        "\n",
        "url = 'https://stackoverflow.com/questions/2081586/web-scraping-with-python'\n",
        "\n",
        "# We can add one or multiple candidates here.\n",
        "# You can also put urls here to retrieve urls.\n",
        "wanted_list = [\"What are metaclasses in Python?\"]\n",
        "\n",
        "scraper = AutoScraper()\n",
        "result = scraper.build(url, wanted_list)\n",
        "print(result)"
      ],
      "execution_count": 10,
      "outputs": [
        {
          "output_type": "stream",
          "text": [
            "['How to execute a program or call a system command from Python', 'What are metaclasses in Python?', 'Does Python have a ternary conditional operator?', 'Convert bytes to a string', \"Does Python have a string 'contains' substring method?\", 'How to check version of python modules?']\n"
          ],
          "name": "stdout"
        }
      ]
    },
    {
      "cell_type": "code",
      "metadata": {
        "tags": [],
        "cell_id": "00009-89b7fb90-749b-4513-81fe-9a3ebec89f77",
        "deepnote_to_be_reexecuted": false,
        "source_hash": "da87418",
        "execution_millis": 511,
        "execution_start": 1619242826056,
        "deepnote_cell_type": "code",
        "colab": {
          "base_uri": "https://localhost:8080/"
        },
        "id": "4XUtlBh1ZlKC",
        "outputId": "c90a93e4-5e86-488a-b7ba-fe7aeb9a95fb"
      },
      "source": [
        "scraper.get_result_similar('https://stackoverflow.com/questions/606191/convert-bytes-to-a-string')"
      ],
      "execution_count": 11,
      "outputs": [
        {
          "output_type": "execute_result",
          "data": {
            "text/plain": [
              "['What is the difference between String and string in C#?',\n",
              " 'How do I read / convert an InputStream into a String in Java?',\n",
              " \"Case insensitive 'Contains(string)'\",\n",
              " 'How do I make the first letter of a string uppercase in JavaScript?',\n",
              " 'How to replace all occurrences of a string in JavaScript?',\n",
              " 'How to check whether a string contains a substring in JavaScript?',\n",
              " \"Does Python have a string 'contains' substring method?\",\n",
              " 'How do I convert a String to an int in Java?',\n",
              " 'Best way to convert string to bytes in Python 3?',\n",
              " 'Why is char[] preferred over String for passwords?']"
            ]
          },
          "metadata": {
            "tags": []
          },
          "execution_count": 11
        }
      ]
    },
    {
      "cell_type": "markdown",
      "metadata": {
        "tags": [],
        "created_in_deepnote_cell": true,
        "deepnote_cell_type": "markdown",
        "id": "ws_1U-70ZlKC"
      },
      "source": [
        "<a style='text-decoration:none;line-height:16px;display:flex;color:#5B5B62;padding:10px;justify-content:end;' href='https://deepnote.com?utm_source=created-in-deepnote-cell&projectId=c3147b9a-1437-4d7f-b3a6-141719e97be4' target=\"_blank\">\n",
        "<img alt='Created in deepnote.com' style='display:inline;max-height:16px;margin:0px;margin-right:7.5px;' src='data:image/svg+xml;base64,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' > </img>\n",
        "Created in <span style='font-weight:600;margin-left:4px;'>Deepnote</span></a>"
      ]
    }
  ]
}