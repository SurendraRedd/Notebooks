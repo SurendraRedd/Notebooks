{
  "nbformat": 4,
  "nbformat_minor": 0,
  "metadata": {
    "orig_nbformat": 2,
    "deepnote": {
      "is_reactive": false
    },
    "deepnote_notebook_id": "d7689306-885b-4ba7-b60b-bcc6485684e9",
    "deepnote_execution_queue": [],
    "colab": {
      "name": "WebScraping.ipynb",
      "provenance": [],
      "include_colab_link": true
    }
  },
  "cells": [
    {
      "cell_type": "markdown",
      "metadata": {
        "id": "view-in-github",
        "colab_type": "text"
      },
      "source": [
        "<a href=\"https://colab.research.google.com/github/SurendraRedd/Notebooks/blob/main/WebScraping.ipynb\" target=\"_parent\"><img src=\"https://colab.research.google.com/assets/colab-badge.svg\" alt=\"Open In Colab\"/></a>"
      ]
    },
    {
      "cell_type": "markdown",
      "metadata": {
        "tags": [],
        "cell_id": "00000-ced8ecdc-75b8-4d76-984c-18f0b7b0644a",
        "deepnote_cell_type": "markdown",
        "id": "kvGc9VjAjRwu"
      },
      "source": [
        "# 🕸 Webscraping\n",
        "\n",
        "#### Use Case - Scrape the website and fetch the details on user selection.\n",
        "\n",
        "#### Steps:\n",
        "\n",
        "** Scenario 1 **\n",
        "- 👉 Install the package by running the command in cell !pip install autoscraper\n",
        "- 👉 Url to scrape\n",
        "- 👉 Values to scrape from the url"
      ]
    },
    {
      "cell_type": "code",
      "metadata": {
        "tags": [],
        "cell_id": "00000-1a8269c6-bfdf-44db-9384-4f9d8da31ad6",
        "deepnote_to_be_reexecuted": false,
        "source_hash": "9f02b52",
        "execution_millis": 4757,
        "output_cleared": false,
        "execution_start": 1619242528129,
        "deepnote_cell_type": "code",
        "id": "iwW5dOjHjRww",
        "outputId": "edcd9136-4dcb-46ca-9aa1-6992ea19e4d4"
      },
      "source": [
        "# Install the Autoscraper\n",
        "!pip install autoscraper"
      ],
      "execution_count": null,
      "outputs": [
        {
          "output_type": "stream",
          "text": [
            "Requirement already satisfied: autoscraper in /root/venv/lib/python3.7/site-packages (1.1.12)\n",
            "Requirement already satisfied: bs4 in /root/venv/lib/python3.7/site-packages (from autoscraper) (0.0.1)\n",
            "Requirement already satisfied: requests in /shared-libs/python3.7/py/lib/python3.7/site-packages (from autoscraper) (2.25.1)\n",
            "Requirement already satisfied: lxml in /shared-libs/python3.7/py/lib/python3.7/site-packages (from autoscraper) (4.6.3)\n",
            "Requirement already satisfied: beautifulsoup4 in /root/venv/lib/python3.7/site-packages (from bs4->autoscraper) (4.9.3)\n",
            "Requirement already satisfied: soupsieve>1.2 in /root/venv/lib/python3.7/site-packages (from beautifulsoup4->bs4->autoscraper) (2.2.1)\n",
            "Requirement already satisfied: certifi>=2017.4.17 in /shared-libs/python3.7/py/lib/python3.7/site-packages (from requests->autoscraper) (2020.12.5)\n",
            "Requirement already satisfied: idna<3,>=2.5 in /shared-libs/python3.7/py/lib/python3.7/site-packages (from requests->autoscraper) (2.10)\n",
            "Requirement already satisfied: urllib3<1.27,>=1.21.1 in /shared-libs/python3.7/py/lib/python3.7/site-packages (from requests->autoscraper) (1.26.4)\n",
            "Requirement already satisfied: chardet<5,>=3.0.2 in /shared-libs/python3.7/py/lib/python3.7/site-packages (from requests->autoscraper) (3.0.4)\n"
          ],
          "name": "stdout"
        }
      ]
    },
    {
      "cell_type": "code",
      "metadata": {
        "tags": [],
        "cell_id": "00002-64c00dd4-28c5-41e5-b0df-228b72a6cff3",
        "deepnote_to_be_reexecuted": false,
        "source_hash": "af902424",
        "execution_millis": 1324,
        "execution_start": 1619242532895,
        "deepnote_cell_type": "code",
        "id": "c9zsHKdxjRwy",
        "outputId": "96603f9f-bb65-43dd-a654-797a083804a7"
      },
      "source": [
        "# Example 1\n",
        "from autoscraper import AutoScraper\n",
        "\n",
        "url = 'https://github.com/SurendraRedd?tab=repositories'\n",
        "fetch_list = ['Notebooks']\n",
        "\n",
        "scraper = AutoScraper()\n",
        "result = scraper.build(url=url, wanted_list=fetch_list)\n",
        "scraper.get_result_similar(url, grouped=True)\n"
      ],
      "execution_count": null,
      "outputs": [
        {
          "output_type": "execute_result",
          "data": {
            "text/plain": [
              "{'rule_qs9w': ['Python_Training',\n",
              "  'Notebooks',\n",
              "  'Sample_Project',\n",
              "  'python-github-actions-example',\n",
              "  'Learnings2020',\n",
              "  'StreamlitProjects',\n",
              "  'SurendraRedd',\n",
              "  'MLStreamlitApp',\n",
              "  'StreamlitBook',\n",
              "  'Books',\n",
              "  'Docusaurus',\n",
              "  'GitBook',\n",
              "  'Techgig',\n",
              "  'ChallengeDeploy',\n",
              "  'UPSNL2020.github.io',\n",
              "  'Bestpractises',\n",
              "  'Surendra_Portfolio',\n",
              "  'DjangoProject',\n",
              "  'WareHouseManagementSystem',\n",
              "  'WebPageProjects',\n",
              "  'incredible-kale',\n",
              "  'surendra-blog',\n",
              "  'SurendraRedd.github.io',\n",
              "  'UsefulTools',\n",
              "  'CodingInterview',\n",
              "  'Interviews2020',\n",
              "  'SurendraReddy',\n",
              "  'MachineLearningCode',\n",
              "  'AcquireTalent',\n",
              "  'NLapplication2020']}"
            ]
          },
          "metadata": {
            "tags": []
          },
          "execution_count": 2
        }
      ]
    },
    {
      "cell_type": "code",
      "metadata": {
        "tags": [],
        "cell_id": "00003-df5bc475-35ca-485f-b35b-e94f5efd4cf8",
        "deepnote_to_be_reexecuted": false,
        "source_hash": "e6d02072",
        "execution_millis": 1396,
        "execution_start": 1619242647644,
        "deepnote_cell_type": "code",
        "id": "FnIifW6CjRwz",
        "outputId": "4d4bce22-d568-489e-8dd1-dce083c3a16a"
      },
      "source": [
        "# Example 2\n",
        "from autoscraper import AutoScraper\n",
        "\n",
        "url = 'https://finance.yahoo.com/quote/AAPL/?guccounter=1'\n",
        "fetch_list = ['Previous Close', '131.94']\n",
        "\n",
        "scraper = AutoScraper()\n",
        "result = scraper.build(url=url, wanted_list=fetch_list)\n",
        "scraper.get_result_similar(url, grouped=True)"
      ],
      "execution_count": null,
      "outputs": [
        {
          "output_type": "execute_result",
          "data": {
            "text/plain": [
              "{'rule_ae2u': ['Previous Close',\n",
              "  'Open',\n",
              "  'Bid',\n",
              "  'Ask',\n",
              "  \"Day's Range\",\n",
              "  '52 Week Range',\n",
              "  'Volume',\n",
              "  'Avg. Volume',\n",
              "  'Market Cap',\n",
              "  'Beta (5Y Monthly)',\n",
              "  'PE Ratio (TTM)',\n",
              "  'EPS (TTM)',\n",
              "  'Earnings Date',\n",
              "  'Forward Dividend & Yield',\n",
              "  'Ex-Dividend Date',\n",
              "  '1y Target Est'],\n",
              " 'rule_ivlb': ['131.94',\n",
              "  '132.16',\n",
              "  '134.25 x 1200',\n",
              "  '134.30 x 1800',\n",
              "  '132.17 - 135.12',\n",
              "  '69.55 - 145.09',\n",
              "  '75,411,603',\n",
              "  '104,905,620',\n",
              "  '2.282T',\n",
              "  '1.22',\n",
              "  '36.43',\n",
              "  '3.69',\n",
              "  'Apr 28, 2021',\n",
              "  '0.82 (0.62%)',\n",
              "  'Feb 05, 2021',\n",
              "  '152.06']}"
            ]
          },
          "metadata": {
            "tags": []
          },
          "execution_count": 12
        }
      ]
    },
    {
      "cell_type": "code",
      "metadata": {
        "tags": [],
        "cell_id": "00004-10569217-d67d-4fb4-af31-8d3e8001c714",
        "deepnote_to_be_reexecuted": false,
        "source_hash": "ac1a9f90",
        "execution_millis": 2,
        "execution_start": 1619242712403,
        "deepnote_cell_type": "code",
        "id": "DpeXS2GQjRwz"
      },
      "source": [
        "# save the rules and search\n",
        "scraper.set_rule_aliases({'rule_ae2u': 'price','rule_ivlb': 'Names'})\n",
        "scraper.keep_rules(['rule_ae2u', 'rule_ivlb'])\n",
        "scraper.save('AppleSearch')\n",
        "\n",
        "# Note rule values will need to be updated every time based on the execution."
      ],
      "execution_count": null,
      "outputs": []
    },
    {
      "cell_type": "code",
      "metadata": {
        "tags": [],
        "cell_id": "00005-be607f3a-c249-4ea6-8ab2-eae905a0528f",
        "deepnote_to_be_reexecuted": false,
        "source_hash": "20f3dd3b",
        "execution_millis": 602,
        "execution_start": 1619242671408,
        "deepnote_cell_type": "code",
        "id": "DNBOoMtyjRw0",
        "outputId": "36778965-e26b-4ad2-942a-ec5bbe7149cd"
      },
      "source": [
        "# Try the above rules in another url\n",
        "Amz_Url = 'https://finance.yahoo.com/quote/AMZN?p=AMZN'\n",
        "\n",
        "scraper.get_result_similar(Amz_Url, group_by_alias=True)"
      ],
      "execution_count": null,
      "outputs": [
        {
          "output_type": "execute_result",
          "data": {
            "text/plain": [
              "{'price': ['Previous Close',\n",
              "  'Open',\n",
              "  'Bid',\n",
              "  'Ask',\n",
              "  \"Day's Range\",\n",
              "  '52 Week Range',\n",
              "  'Volume',\n",
              "  'Avg. Volume',\n",
              "  'Market Cap',\n",
              "  'Beta (5Y Monthly)',\n",
              "  'PE Ratio (TTM)',\n",
              "  'EPS (TTM)',\n",
              "  'Earnings Date',\n",
              "  'Forward Dividend & Yield',\n",
              "  'Ex-Dividend Date',\n",
              "  '1y Target Est'],\n",
              " 'Names': ['3,309.04',\n",
              "  '3,319.10',\n",
              "  '3,342.00 x 900',\n",
              "  '3,343.29 x 900',\n",
              "  '3,308.50 - 3,375.00',\n",
              "  '2,256.38 - 3,552.25',\n",
              "  '3,196,652',\n",
              "  '3,460,203',\n",
              "  '1.711T',\n",
              "  '1.12',\n",
              "  '79.87',\n",
              "  '41.83',\n",
              "  'Apr 29, 2021',\n",
              "  'N/A (N/A)',\n",
              "  'N/A',\n",
              "  '3,988.53']}"
            ]
          },
          "metadata": {
            "tags": []
          },
          "execution_count": 14
        }
      ]
    },
    {
      "cell_type": "code",
      "metadata": {
        "tags": [],
        "cell_id": "00004-08d37797-5883-40ec-978c-47bc84195f40",
        "deepnote_to_be_reexecuted": false,
        "source_hash": "a20af41d",
        "execution_millis": 1242,
        "execution_start": 1619242774774,
        "deepnote_cell_type": "code",
        "id": "SIASH3u8jRw0"
      },
      "source": [
        "# Example 2\n",
        "from autoscraper import AutoScraper\n",
        "\n",
        "url = 'https://www.amazon.in/s?k=dell+laptops&ref=nb_sb_noss_2'\n",
        "fetch_list = ['₹51,499','Dell Inspiron 5406 14\" FHD Display 2in1 Laptop (11th Gen i3-1115G4 / 4GB / 256GB SSD / Integrated Graphics/ Win 10 + MS Office / Backlit with FPR / Platinum Silver) D560446WIN9S','10']\n",
        "\n",
        "scraper = AutoScraper()\n",
        "result = scraper.build(url=url, wanted_list=fetch_list)\n"
      ],
      "execution_count": null,
      "outputs": []
    },
    {
      "cell_type": "code",
      "metadata": {
        "tags": [],
        "cell_id": "00003-8789a8d8-1cf4-4cf2-b963-c3ef65257d3d",
        "deepnote_to_be_reexecuted": false,
        "source_hash": "194efea0",
        "execution_millis": 1001,
        "output_cleared": false,
        "execution_start": 1619242781093,
        "deepnote_cell_type": "code",
        "id": "0JYVtikUjRw1",
        "outputId": "248edfdc-e856-47b8-b867-cce15737fd37"
      },
      "source": [
        "#scraper.get_result_similar(url, group_by_alias=True)\n",
        "scraper.get_result_similar(url, grouped=True)\n",
        "\n",
        "# Note: Sometimes Duplicate rule values will be displayed"
      ],
      "execution_count": null,
      "outputs": [
        {
          "output_type": "execute_result",
          "data": {
            "text/plain": [
              "{'rule_ot4i': ['₹51,499',\n",
              "  '₹53,707',\n",
              "  '₹69,400',\n",
              "  '₹74,000',\n",
              "  '₹61,990',\n",
              "  '₹65,999',\n",
              "  '₹1,29,990',\n",
              "  '₹1,54,446',\n",
              "  '₹94,990',\n",
              "  '₹1,20,957',\n",
              "  '₹82,490',\n",
              "  '₹93,971'],\n",
              " 'rule_l2hs': ['₹51,499',\n",
              "  '₹53,707',\n",
              "  '₹69,400',\n",
              "  '₹74,000',\n",
              "  '₹61,990',\n",
              "  '₹65,999',\n",
              "  '₹1,29,990',\n",
              "  '₹1,54,446',\n",
              "  '₹94,990',\n",
              "  '₹1,20,957',\n",
              "  '₹82,490',\n",
              "  '₹93,971'],\n",
              " 'rule_konw': ['Dell Inspiron 5406 14\" FHD Display 2in1 Laptop (11th Gen i3-1115G4 / 4GB / 256GB SSD / Integrated Graphics/ Win 10 + MS Office / Backlit with FPR / Platinum Silver) D560446WIN9S',\n",
              "  'Dell Inspiron 5406 11th Gen 14inch FHD 2in1 Laptop(i5-1135G7 / 8GB / 512 SSD / Iris Xe Graphics /Win 10/ MS Office 19/ Active Pen/Titan Grey),D560367WIN9S',\n",
              "  'Dell Vostro 3400 14\" FHD Anti Glare Display Laptop/ i5-1135G7 / 8GB / 512 SSD / Nvidia 2GB MX230 Graphics / Win 10 + Office H&S/ Dune Color) D552156WIN9DE',\n",
              "  'DELL XPS 9300 13.3-inch FHD Laptop (10th Gen Core i5-1035G1/8GB/512GB SSD/Windows 10 Home Plus & MS Office 365- 1Yr Subscription/Intel HD Graphics), Silver',\n",
              "  'Dell XPS 7390 13.3-inch FHD Thin & Light Laptop (10th Gen Core i5-10210U/8GB/512GB SSD/Win 10 + MS Office/Integrated Graphics) White',\n",
              "  'Dell G3 3500 Gaming 15.6inch 120hz FHD Display Laptop (10th Gen i7-10750H / 8 GB / 512 SSD / GTX 1650 4GB / 1Yr Premium Warranty/ Win 10 + MS Office H&S 2019) D560250WIN9BE'],\n",
              " 'rule_qn8d': ['4',\n",
              "  '5',\n",
              "  '6',\n",
              "  '7',\n",
              "  '8',\n",
              "  '9',\n",
              "  '10',\n",
              "  '11',\n",
              "  '14',\n",
              "  '16',\n",
              "  '17',\n",
              "  '18',\n",
              "  '19',\n",
              "  '20',\n",
              "  '21'],\n",
              " 'rule_rjmg': ['10'],\n",
              " 'rule_ob97': ['223',\n",
              "  '400',\n",
              "  '93',\n",
              "  '159',\n",
              "  '104',\n",
              "  '51',\n",
              "  '14',\n",
              "  '49',\n",
              "  '126',\n",
              "  '43',\n",
              "  '203',\n",
              "  '22',\n",
              "  '31',\n",
              "  '42',\n",
              "  '28'],\n",
              " 'rule_0htp': ['10', '41', '15', '14', '52']}"
            ]
          },
          "metadata": {
            "tags": []
          },
          "execution_count": 20
        }
      ]
    },
    {
      "cell_type": "code",
      "metadata": {
        "tags": [],
        "cell_id": "00004-f609df7e-6dac-4dc6-b002-90e966189354",
        "deepnote_to_be_reexecuted": false,
        "source_hash": "5a217ad6",
        "execution_millis": 1,
        "execution_start": 1619242812183,
        "deepnote_cell_type": "code",
        "id": "bWgE0lRojRw1"
      },
      "source": [
        "# save the rules and search\n",
        "\n",
        "scraper.set_rule_aliases({'rule_ot4i': 'price','rule_konw': 'Names'})\n",
        "scraper.keep_rules(['rule_ot4i', 'rule_konw'])\n",
        "scraper.save('DellLaptopSearch')"
      ],
      "execution_count": null,
      "outputs": []
    },
    {
      "cell_type": "code",
      "metadata": {
        "tags": [],
        "cell_id": "00007-f512d615-216c-46b3-b4d8-f730be88665e",
        "deepnote_to_be_reexecuted": false,
        "source_hash": "9e55dd8d",
        "execution_millis": 979,
        "output_cleared": false,
        "execution_start": 1619242814920,
        "deepnote_cell_type": "code",
        "id": "OYL0sya8jRw2",
        "outputId": "07689bca-7666-49ae-f579-a3d7a706b1de"
      },
      "source": [
        "# Try the above rules in another url\n",
        "HP_Url = 'https://www.amazon.in/s?k=HP+laptops&ref=nb_sb_noss_2'\n",
        "\n",
        "scraper.get_result_similar(HP_Url, group_by_alias=True)"
      ],
      "execution_count": null,
      "outputs": [
        {
          "output_type": "execute_result",
          "data": {
            "text/plain": [
              "{'price': ['₹53,990',\n",
              "  '₹63,306',\n",
              "  '₹61,990',\n",
              "  '₹65,999',\n",
              "  '₹94,990',\n",
              "  '₹1,20,957',\n",
              "  '₹72,990',\n",
              "  '₹78,193',\n",
              "  '₹74,990',\n",
              "  '₹86,388',\n",
              "  '₹84,990',\n",
              "  '₹95,990'],\n",
              " 'Names': ['Dell Inspiron 5406 11th Gen 14inch FHD 2in1 Laptop( i3-1115G4 / 4GB / 512 SSD / Integrated Graphics/ Win 10/ MS Office 19/ Active Pen/Platinum Silver),D560366WIN9S',\n",
              "  'Dell Vostro 3400 14\" FHD Anti Glare Display Laptop/ i5-1135G7 / 8GB / 512 SSD / Nvidia 2GB MX230 Graphics / Win 10 + Office H&S/ Dune Color) D552156WIN9DE',\n",
              "  'Dell XPS 7390 13.3-inch FHD Thin & Light Laptop (10th Gen Core i5-10210U/8GB/512GB SSD/Win 10 + MS Office/Integrated Graphics) White',\n",
              "  'Dell G3 3500 Gaming Laptop with 15.6 Inch 120 Hz FHD Display (10th Gen i5-10300H/ 8 GB/ 1TB+256 SSD/ Win 10/ NVIDIA GTX 1650 4GB Graphics) D560245HIN9BE / D560317HIN9BE',\n",
              "  'Dell G3 3500 Gaming Laptop 15.6-inch FHD 120 Hz Display (10th Gen Core i5-10300H/8GB/1TB + 256GB SSD/Win 10/4GB NVIDIA1650 Ti Graphics/Eclipse Black) D560253HIN9BE',\n",
              "  'MSI Bravo 15 Ryzen 7 4800H 15.6\" FHD Gaming Laptop (16GB/512GB SSD/144 Hz/Windows 10/ RX5500M,GDDR6 4GB/Black/1.86 kg), A4DDR-212IN']}"
            ]
          },
          "metadata": {
            "tags": []
          },
          "execution_count": 22
        }
      ]
    },
    {
      "cell_type": "code",
      "metadata": {
        "tags": [],
        "cell_id": "00008-0deaa8fa-26bb-4959-a970-3d64ad8a1385",
        "deepnote_to_be_reexecuted": false,
        "source_hash": "87c6bb50",
        "execution_millis": 555,
        "execution_start": 1619242822113,
        "deepnote_cell_type": "code",
        "id": "jaDf4X4ujRw2",
        "outputId": "6ba5731e-08b9-42b1-df9c-375beedc3e75"
      },
      "source": [
        "# Example 3\n",
        "from autoscraper import AutoScraper\n",
        "\n",
        "url = 'https://stackoverflow.com/questions/2081586/web-scraping-with-python'\n",
        "\n",
        "# We can add one or multiple candidates here.\n",
        "# You can also put urls here to retrieve urls.\n",
        "wanted_list = [\"What are metaclasses in Python?\"]\n",
        "\n",
        "scraper = AutoScraper()\n",
        "result = scraper.build(url, wanted_list)\n",
        "print(result)"
      ],
      "execution_count": null,
      "outputs": [
        {
          "output_type": "stream",
          "text": [
            "['How to execute a program or call a system command from Python', 'What are metaclasses in Python?', 'Does Python have a ternary conditional operator?', 'Convert bytes to a string', \"Does Python have a string 'contains' substring method?\", 'How to check version of python modules?']\n"
          ],
          "name": "stdout"
        }
      ]
    },
    {
      "cell_type": "code",
      "metadata": {
        "tags": [],
        "cell_id": "00009-89b7fb90-749b-4513-81fe-9a3ebec89f77",
        "deepnote_to_be_reexecuted": false,
        "source_hash": "da87418",
        "execution_millis": 511,
        "execution_start": 1619242826056,
        "deepnote_cell_type": "code",
        "id": "nmAB57uSjRw3",
        "outputId": "862c8a15-f0e5-4e9f-c8a8-33be5dcc90b8"
      },
      "source": [
        "scraper.get_result_similar('https://stackoverflow.com/questions/606191/convert-bytes-to-a-string')"
      ],
      "execution_count": null,
      "outputs": [
        {
          "output_type": "execute_result",
          "data": {
            "text/plain": [
              "['What is the difference between String and string in C#?',\n",
              " 'How do I read / convert an InputStream into a String in Java?',\n",
              " \"Case insensitive 'Contains(string)'\",\n",
              " 'How do I make the first letter of a string uppercase in JavaScript?',\n",
              " 'How to replace all occurrences of a string in JavaScript?',\n",
              " 'How to check whether a string contains a substring in JavaScript?',\n",
              " \"Does Python have a string 'contains' substring method?\",\n",
              " 'How do I convert a String to an int in Java?',\n",
              " 'Best way to convert string to bytes in Python 3?',\n",
              " 'Why is char[] preferred over String for passwords?']"
            ]
          },
          "metadata": {
            "tags": []
          },
          "execution_count": 24
        }
      ]
    },
    {
      "cell_type": "code",
      "metadata": {
        "tags": [],
        "cell_id": "00012-fc136971-24da-486c-8f8c-fd2544e182da",
        "deepnote_to_be_reexecuted": false,
        "source_hash": "e0c2c38a",
        "execution_start": 1619243454379,
        "execution_millis": 4538,
        "output_cleared": true,
        "deepnote_cell_type": "code",
        "id": "ZaOhNCCjjRw3"
      },
      "source": [
        "!pip install flask"
      ],
      "execution_count": null,
      "outputs": []
    },
    {
      "cell_type": "markdown",
      "metadata": {
        "tags": [],
        "cell_id": "00012-5eca658c-4803-49b9-b918-52bed80cb731",
        "deepnote_cell_type": "markdown",
        "id": "GpP1SZYLjRw3"
      },
      "source": [
        "#### Issues\n",
        "- Sometimes scrapping is not consistent and rule values need to be updated after the executions every time.\n",
        "\n",
        "#### What's Next\n",
        "- Integration to Flask and Fetch. Refer the references below.\n",
        "\n",
        "#### References\n",
        "- Flask App - https://www.codementor.io/@alirezamika/autoscraper-and-flask-create-an-api-from-any-website-in-less-than-5-minutes-and-with-fewer-than-20-lines-of-python-1chs1do4f5\n",
        "- Other Examples - Refer the gists https://gist.github.com/alirezamika/72083221891eecd991bbc0a2a2467673"
      ]
    },
    {
      "cell_type": "markdown",
      "metadata": {
        "tags": [],
        "created_in_deepnote_cell": true,
        "deepnote_cell_type": "markdown",
        "id": "Xs0OFcYNjRw4"
      },
      "source": [
        "<a style='text-decoration:none;line-height:16px;display:flex;color:#5B5B62;padding:10px;justify-content:end;' href='https://deepnote.com?utm_source=created-in-deepnote-cell&projectId=c3147b9a-1437-4d7f-b3a6-141719e97be4' target=\"_blank\">\n",
        "<img alt='Created in deepnote.com' style='display:inline;max-height:16px;margin:0px;margin-right:7.5px;' src='data:image/svg+xml;base64,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' > </img>\n",
        "Created in <span style='font-weight:600;margin-left:4px;'>Deepnote</span></a>"
      ]
    }
  ]
}