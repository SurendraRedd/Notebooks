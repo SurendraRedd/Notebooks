{
  "nbformat": 4,
  "nbformat_minor": 0,
  "metadata": {
    "colab": {
      "name": "EDAPython.ipynb",
      "private_outputs": true,
      "provenance": [],
      "toc_visible": true,
      "authorship_tag": "ABX9TyMYd3q4UsMzfzp6y6MKJCgi",
      "include_colab_link": true
    },
    "kernelspec": {
      "name": "python3",
      "display_name": "Python 3"
    },
    "language_info": {
      "name": "python"
    },
    "accelerator": "GPU"
  },
  "cells": [
    {
      "cell_type": "markdown",
      "metadata": {
        "id": "view-in-github",
        "colab_type": "text"
      },
      "source": [
        "<a href=\"https://colab.research.google.com/github/SurendraRedd/Notebooks/blob/main/EDAPython.ipynb\" target=\"_parent\"><img src=\"https://colab.research.google.com/assets/colab-badge.svg\" alt=\"Open In Colab\"/></a>"
      ]
    },
    {
      "cell_type": "markdown",
      "metadata": {
        "id": "zkdNoJs6P_70"
      },
      "source": [
        "### Exploratory Data Analysis in python\n",
        "**Best Python Packages**\n",
        "- DTale\n",
        "- Pandas Profiling\n",
        "- sweetviz\n",
        "- autoviz\n",
        "\n",
        "**Support Packages**\n",
        "- pandas\n",
        "- seaborn"
      ]
    },
    {
      "cell_type": "code",
      "metadata": {
        "id": "XoH0_Nf1P6HO"
      },
      "source": [
        "!pip install pandas"
      ],
      "execution_count": null,
      "outputs": []
    },
    {
      "cell_type": "code",
      "metadata": {
        "id": "spE6MAWtQHDQ"
      },
      "source": [
        "# Contains all the powerful datasets such as titanic, tips, iris ..etc\n",
        "!pip install seaborn"
      ],
      "execution_count": null,
      "outputs": []
    },
    {
      "cell_type": "markdown",
      "metadata": {
        "id": "wEfrBQ4x2ux9"
      },
      "source": [
        "**Using Dtale**\n",
        "\n",
        "\n",
        "---\n",
        "\n",
        "\n",
        "\n",
        "- Load the dataset such as titanic, iris, or tips\n",
        "  ```\n",
        "  import seaborn as sns\n",
        "  df = sns.load_dataset('titanic/iris/tips')\n",
        "  ```\n",
        "- Plot it using Dtale"
      ]
    },
    {
      "cell_type": "code",
      "metadata": {
        "id": "aGaPREIZQSw_"
      },
      "source": [
        "!pip install dtale"
      ],
      "execution_count": null,
      "outputs": []
    },
    {
      "cell_type": "code",
      "metadata": {
        "id": "m714db62QWVk"
      },
      "source": [
        "import seaborn as sns\n",
        "df = sns.load_dataset('titanic')\n",
        "df.head()"
      ],
      "execution_count": null,
      "outputs": []
    },
    {
      "cell_type": "code",
      "metadata": {
        "id": "HiAN0PJqQy89"
      },
      "source": [
        "import dtale\n",
        "import dtale.app as dtale_app\n",
        "dtale_app.USE_COLAB = True\n",
        "dtale.show(df)"
      ],
      "execution_count": null,
      "outputs": []
    },
    {
      "cell_type": "markdown",
      "metadata": {
        "id": "_n8oOoRv4I6M"
      },
      "source": [
        "**Using Pandas Profiling**\n",
        "\n",
        "\n",
        "---\n",
        "\n",
        "\n",
        "\n",
        "- Load the dataset such as titanic, iris, or tips\n",
        "  ```\n",
        "  import seaborn as sns\n",
        "  df = sns.load_dataset('titanic/iris/tips')\n",
        "  ```\n",
        "- Plot it using Pandas Profiling"
      ]
    },
    {
      "cell_type": "code",
      "metadata": {
        "id": "Cz-HrMrBTgTt"
      },
      "source": [
        "!pip install pandas-profiling==2.7.1 # To avoid some issues used the specific version"
      ],
      "execution_count": null,
      "outputs": []
    },
    {
      "cell_type": "code",
      "metadata": {
        "id": "Yoh1FHy-TtYr"
      },
      "source": [
        "import seaborn as sns\n",
        "df1 = sns.load_dataset('iris')\n",
        "df1.head()"
      ],
      "execution_count": null,
      "outputs": []
    },
    {
      "cell_type": "code",
      "metadata": {
        "id": "ExdgNHzWT1aK"
      },
      "source": [
        "from pandas_profiling import ProfileReport\n",
        "profile = ProfileReport(df1)\n",
        "#profile.to_widgets() --> to display the data in widgets\n",
        "profile.to_file('output.html')"
      ],
      "execution_count": null,
      "outputs": []
    },
    {
      "cell_type": "code",
      "metadata": {
        "id": "uFeENGTlyo8u"
      },
      "source": [
        "# Code to display the html\n",
        "\n",
        "import IPython\n",
        "IPython.display.HTML(filename='/content/output.html')"
      ],
      "execution_count": null,
      "outputs": []
    },
    {
      "cell_type": "markdown",
      "metadata": {
        "id": "ROBQbQIZ4SSJ"
      },
      "source": [
        "**Using Sweetviz**\n",
        "\n",
        "\n",
        "---\n",
        "\n",
        "\n",
        "\n",
        "- Load the dataset such as titanic, iris, or tips\n",
        "  ```\n",
        "  import seaborn as sns\n",
        "  df = sns.load_dataset('titanic/iris/tips')\n",
        "  ```\n",
        "- Plot it using sweetviz"
      ]
    },
    {
      "cell_type": "code",
      "metadata": {
        "id": "apPL3QMGzH9z"
      },
      "source": [
        "!pip install sweetviz"
      ],
      "execution_count": null,
      "outputs": []
    },
    {
      "cell_type": "code",
      "metadata": {
        "id": "K05gPRrj0Yd7"
      },
      "source": [
        "import seaborn as sb\n",
        "df2 = sb.load_dataset('iris')"
      ],
      "execution_count": null,
      "outputs": []
    },
    {
      "cell_type": "code",
      "metadata": {
        "id": "SgyXhkxwzpfN"
      },
      "source": [
        "import sweetviz as sv\n",
        "report = sv.analyze(df2)\n",
        "report.show_html('Report.html')"
      ],
      "execution_count": null,
      "outputs": []
    },
    {
      "cell_type": "code",
      "metadata": {
        "id": "KGnGH1bU0QZF"
      },
      "source": [
        "# Code to display the html\n",
        "\n",
        "import IPython\n",
        "IPython.display.HTML(filename='/content/Report.html')"
      ],
      "execution_count": null,
      "outputs": []
    },
    {
      "cell_type": "markdown",
      "metadata": {
        "id": "vJkp-BtJ4deV"
      },
      "source": [
        "**Using Autoviz**\n",
        "\n",
        "\n",
        "---\n",
        "- Plot it using Autoviz"
      ]
    },
    {
      "cell_type": "code",
      "metadata": {
        "id": "2aY5z8cd4ZNV"
      },
      "source": [
        "!pip install autoviz"
      ],
      "execution_count": null,
      "outputs": []
    },
    {
      "cell_type": "code",
      "metadata": {
        "id": "PnIHnBZL5E8t"
      },
      "source": [
        "from autoviz.AutoViz_Class import AutoViz_Class\n",
        "AV = AutoViz_Class()\n",
        "\n",
        "\n",
        "filename = \"https://raw.githubusercontent.com/vincentarelbundock/Rdatasets/master/csv/MASS/Boston.csv\"\n",
        "sep = \",\"\n",
        "dft = AV.AutoViz(\n",
        "    filename,\n",
        "    sep=\",\",\n",
        "    depVar=\"\",\n",
        "    dfte=None,\n",
        "    header=0,\n",
        "    verbose=0,\n",
        "    lowess=False,\n",
        "    chart_format=\"svg\",\n",
        "    max_rows_analyzed=150000,\n",
        "    max_cols_analyzed=30,\n",
        ")"
      ],
      "execution_count": null,
      "outputs": []
    }
  ]
}